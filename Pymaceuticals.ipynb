{
 "cells": [
  {
   "cell_type": "code",
   "execution_count": null,
   "metadata": {},
   "outputs": [],
   "source": [
    "%matplotlib inline"
   ]
  },
  {
   "cell_type": "code",
   "execution_count": null,
   "metadata": {},
   "outputs": [],
   "source": [
    "# Dependencies and Setup\n",
    "import matplotlib.pyplot as plt\n",
    "import pandas as pd\n",
    "import numpy as np\n",
    "import os"
   ]
  },
  {
   "cell_type": "code",
   "execution_count": null,
   "metadata": {},
   "outputs": [],
   "source": [
    "# Hide warning messages in notebook\n",
    "import warnings\n",
    "warnings.filterwarnings('ignore')"
   ]
  },
  {
   "cell_type": "code",
   "execution_count": null,
   "metadata": {},
   "outputs": [],
   "source": [
    "# File to Load \n",
    "mouse_data_path= os.path.join(\"data\",\"mouse_drug_data.csv\")\n",
    "clinical_data_path = os.path.join(\"data\",\"clinicaltrial_data.csv\")\n",
    "\n",
    "# Read the Mouse and Drug Data and the Clinical Trial Data\n",
    "mouse_drug_df = pd.read_csv(mouse_data_path)\n",
    "clinical_trial_df = pd.read_csv(clinical_data_path)\n",
    "\n",
    "# Combine the data into a single dataset\n",
    "combine_data_df = pd.merge(clinical_trial_df,mouse_drug_df,on=\"Mouse ID\",how=\"left\")\n",
    "\n",
    "# Display the data table for preview\n",
    "combine_data_df.head()"
   ]
  },
  {
   "cell_type": "code",
   "execution_count": null,
   "metadata": {},
   "outputs": [],
   "source": [
    "#######################Tumor Response to Treatment#######################\n",
    "\n",
    "# Store the Mean Tumor Volume Data Grouped by Drug and Timepoint \n",
    "grouped_df = combine_data_df.groupby([\"Drug\",\"Timepoint\"])\n",
    "avg_tumor_df = grouped_df[\"Tumor Volume (mm3)\"].mean()\n",
    "\n",
    "# Convert to DataFrame\n",
    "tumor_response_to_treatment = avg_tumor_df.reset_index()\n",
    "\n",
    "# Preview DataFrame\n",
    "tumor_response_to_treatment.head() \n"
   ]
  },
  {
   "cell_type": "code",
   "execution_count": null,
   "metadata": {},
   "outputs": [],
   "source": [
    "# Store the Standard Error of Tumor Volumes Grouped by Drug and Timepoint\n",
    "standard_error_grouped = combine_data_df.groupby([\"Drug\",\"Timepoint\"])[\"Tumor Volume (mm3)\"]\n",
    "tumor_standard_error = standard_error_grouped.sem()\n",
    "\n",
    "# Convert to DataFrame\n",
    "tumor_standard_error_df = tumor_standard_error.reset_index()\n",
    "\n",
    "# Preview DataFrame\n",
    "tumor_standard_error_df.head()"
   ]
  },
  {
   "cell_type": "code",
   "execution_count": null,
   "metadata": {},
   "outputs": [],
   "source": [
    "# Minor Data Munging to Re-Format the Data Frames\n",
    "reformat_data_tumor = tumor_response_to_treatment.pivot_table(index=\"Timepoint\",columns=\"Drug\", values=\"Tumor Volume (mm3)\")\n",
    "\n",
    "# Preview that Reformatting worked\n",
    "reformat_data_tumor.head()"
   ]
  },
  {
   "cell_type": "code",
   "execution_count": null,
   "metadata": {},
   "outputs": [],
   "source": [
    "# Generate the Plot (with Error Bars)\n",
    "    \n",
    "drug_list = [(\"Capomulin\",\"o\",\"red\"),(\"Infubinol\",\"^\",\"blue\"),(\"Ketapril\",\"s\",\"green\"),(\"Placebo\",\"d\",\"black\")]\n",
    "\n",
    "for drug,marker,colors in drug_list:\n",
    "    standard_error = tumor_standard_error[drug]\n",
    "    tumor_response_plot = plt.errorbar(x=reformat_data_tumor.index, y=reformat_data_tumor[drug],yerr=standard_error,\n",
    "                                       marker=marker, ls=\"--\", color=colors)\n",
    "    \n",
    "#Show the Figure\n",
    "plt.legend(loc=\"best\")\n",
    "plt.title(\"Tumor Response to Treatment\")\n",
    "plt.xlabel(\"Time(Days)\")\n",
    "plt.ylabel(\"Tumor Volume (mm3)\")\n",
    "plt.grid()\n",
    "\n",
    "\n",
    "# Save the Figure\n",
    "plt.savefig(os.path.join(\"images\",\"tumor_response_to_treatment.png\"))\n",
    "plt.show()"
   ]
  },
  {
   "cell_type": "code",
   "execution_count": null,
   "metadata": {},
   "outputs": [],
   "source": [
    "#######################Metastatic Response to Treatment#######################\n",
    "\n",
    "# Store the Mean Met. Site Data Grouped by Drug and Timepoint\n",
    "grouped_met = combine_data_df.groupby([\"Drug\",\"Timepoint\"])\n",
    "avg_met = grouped_met[\"Metastatic Sites\"].mean()\n",
    "\n",
    "# Convert to DataFrame\n",
    "met_response_to_treatment = avg_met.reset_index()\n",
    "\n",
    "# Preview DataFrame\n",
    "met_response_to_treatment.head()"
   ]
  },
  {
   "cell_type": "code",
   "execution_count": null,
   "metadata": {},
   "outputs": [],
   "source": [
    "# Store the Standard Error associated with Met. Sites Grouped by Drug and Timepoint \n",
    "met_standard_error_grouped = combine_data_df.groupby([\"Drug\",\"Timepoint\"])[\"Metastatic Sites\"]\n",
    "met_standard_error = met_standard_error_grouped.sem()\n",
    "\n",
    "\n",
    "# Convert to DataFrame\n",
    "met_standard_error_df = met_standard_error.reset_index()\n",
    "\n",
    "# Preview DataFrame\n",
    "met_standard_error_df.head()"
   ]
  },
  {
   "cell_type": "code",
   "execution_count": null,
   "metadata": {},
   "outputs": [],
   "source": [
    "# Minor Data Munging to Re-Format the Data Frames\n",
    "reformat_data_met = met_response_to_treatment.pivot_table(index=\"Timepoint\",columns=\"Drug\", values=\"Metastatic Sites\")\n",
    "\n",
    "# Preview that Reformatting worked\n",
    "reformat_data_met.head()"
   ]
  },
  {
   "cell_type": "code",
   "execution_count": null,
   "metadata": {},
   "outputs": [],
   "source": [
    "# Generate the Plot (with Error Bars)\n",
    "\n",
    "for drug,marker,colors in drug_list:\n",
    "    standard_error = met_standard_error[drug]\n",
    "    metastatic_spread_plot = plt.errorbar(x=reformat_data_met.index, y=reformat_data_met[drug], yerr=standard_error, \n",
    "                                          marker=marker, ls=\"--\", color=colors)\n",
    "    \n",
    "#Show the Figure\n",
    "plt.legend(loc=\"best\")\n",
    "plt.title(\"Metastatic Spread During Treatment\")\n",
    "plt.xlabel(\"Treatment Duration(Days)\")\n",
    "plt.ylabel(\"Met.Sites\")\n",
    "plt.grid()\n",
    "\n",
    "\n",
    "# Save the Figure\n",
    "plt.savefig(os.path.join(\"images\",\"metastatic_spread_during_treatment.png\"))\n",
    "plt.show()"
   ]
  },
  {
   "cell_type": "code",
   "execution_count": null,
   "metadata": {},
   "outputs": [],
   "source": [
    "#######################Survival Rates#######################\n",
    "\n",
    "# Store the Count of Mice Grouped by Drug and Timepoint (W can pass any metric)\n",
    "mouse_grouped = combine_data_df.groupby([\"Drug\",\"Timepoint\"])[\"Mouse ID\"]\n",
    "mouse_count = mouse_grouped.nunique()\n",
    "\n",
    "\n",
    "# Convert to DataFrame\n",
    "mouse_count_df = mouse_count.reset_index()\n",
    "\n",
    "#Rename the mouse id column\n",
    "mouse_count_df = mouse_count_df.rename(columns={\"Mouse ID\":\"Mouse Count\"})\n",
    "\n",
    "# Preview DataFrame\n",
    "mouse_count_df.head()"
   ]
  },
  {
   "cell_type": "code",
   "execution_count": null,
   "metadata": {},
   "outputs": [],
   "source": [
    "# Minor Data Munging to Re-Format the Data Frames\n",
    "reformat_data_mouse = mouse_count_df.pivot_table(index=\"Timepoint\",columns=\"Drug\", values=\"Mouse Count\")\n",
    "\n",
    "# Preview the Data Frame\n",
    "reformat_data_mouse.head()"
   ]
  },
  {
   "cell_type": "code",
   "execution_count": null,
   "metadata": {},
   "outputs": [],
   "source": [
    "# Generate the Plot (Accounting for percentages)\n",
    "\n",
    "for drug,marker,colors in drug_list:\n",
    "    mouse_total = reformat_data_mouse[drug][0]\n",
    "    survival_rate = (reformat_data_mouse[drug]/mouse_total)*100\n",
    "    survival_treatment_plot = plt.errorbar(x=reformat_data_mouse.index, y=survival_rate, \n",
    "                                           marker=marker, ls=\"--\", color=colors)\n",
    "    \n",
    "# Show the Figure\n",
    "plt.legend(loc=\"best\")\n",
    "plt.title(\"Survival During Treatment\")\n",
    "plt.xlabel(\"Time(Days)\")\n",
    "plt.ylabel(\"Survival Rate(%)\")\n",
    "plt.grid()\n",
    "\n",
    "# Save the Figure\n",
    "plt.savefig(os.path.join(\"images\",\"survival_during_treatment.png\"))\n",
    "plt.show()"
   ]
  },
  {
   "cell_type": "code",
   "execution_count": null,
   "metadata": {},
   "outputs": [],
   "source": [
    "#######################Summary Bar Graph#######################\n",
    "\n",
    "# Calculate the percent changes for each drug\n",
    "change_value = reformat_data_tumor.iloc[-1] - reformat_data_tumor.iloc[0]\n",
    "\n",
    "percent_change = (change_value /(reformat_data_tumor.iloc[0]))*100\n",
    "\n",
    "# Display the data to confirm\n",
    "percent_change"
   ]
  },
  {
   "cell_type": "code",
   "execution_count": null,
   "metadata": {},
   "outputs": [],
   "source": [
    "# Orient widths. Add labels, tick marks, etc. \n",
    "\n",
    "only_drug_list = [\"Capomulin\",\"Infubinol\",\"Ketapril\",\"Placebo\"]\n",
    "percent_change_list = [percent_change[drug] for drug in only_drug_list]\n",
    "result = percent_change > 0\n",
    "percent_change_plot = plt.bar(x=only_drug_list, y=percent_change_list,\n",
    "                              color = result.map({True:\"red\", False:\"green\"}))\n",
    "\n",
    "plt.title(\"Tumor Change Over 45 Day Treatment\")\n",
    "plt.ylabel(\"% Tumor Volume Change\")\n",
    "plt.grid()\n",
    "\n",
    "\n"
   ]
  },
  {
   "cell_type": "code",
   "execution_count": null,
   "metadata": {},
   "outputs": [],
   "source": []
  },
  {
   "cell_type": "code",
   "execution_count": null,
   "metadata": {},
   "outputs": [],
   "source": []
  }
 ],
 "metadata": {
  "celltoolbar": "Raw Cell Format",
  "kernelspec": {
   "display_name": "Python [conda env:PythonData] *",
   "language": "python",
   "name": "conda-env-PythonData-py"
  },
  "language_info": {
   "codemirror_mode": {
    "name": "ipython",
    "version": 3
   },
   "file_extension": ".py",
   "mimetype": "text/x-python",
   "name": "python",
   "nbconvert_exporter": "python",
   "pygments_lexer": "ipython3",
   "version": "3.6.8"
  }
 },
 "nbformat": 4,
 "nbformat_minor": 2
}
